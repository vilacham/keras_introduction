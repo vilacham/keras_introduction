{
 "cells": [
  {
   "cell_type": "markdown",
   "metadata": {},
   "source": [
    "# Redes neurais no Keras\n",
    "\n",
    "Felizmente, não teremos que codificar a função de ativação, o gradiente descendente, etc., toda vez que quisermos usar uma rede neural. Existem vários pacotes para isso, que recomendamos que você conheça, incluindo:\n",
    "\n",
    "* [Keras](https://keras.io)\n",
    "* [TensorFlow](https://www.tensorflow.org)\n",
    "* [Caffe](caffe.berkeleyvision.org)\n",
    "* [Theano](deeplearning.net/software/theano)\n",
    "* [Scikit-learn](scikit-learn.org)\n",
    "* E vários outros\n",
    "\n",
    "Neste curso, vamos aprender como usar o **Keras**. Trabalhar com redes neurais profundas no Keras é bem mais simples. Para demonstrar como é fácil, você vai construir uma rede completamente conectada simples em algumas dezenas de linhas de código.\n",
    "\n",
    "Vamos conectar os conceitos que você aprendeu nas aulas anteriores aos métodos que o Keras fornece.\n",
    "\n",
    "A ideia feral deste exemplo é que você primeiro carregue os dados, depois defina a rede e então, finalmente, treine a rede."
   ]
  },
  {
   "cell_type": "code",
   "execution_count": null,
   "metadata": {},
   "outputs": [],
   "source": []
  }
 ],
 "metadata": {
  "kernelspec": {
   "display_name": "Python 3",
   "language": "python",
   "name": "python3"
  },
  "language_info": {
   "codemirror_mode": {
    "name": "ipython",
    "version": 3
   },
   "file_extension": ".py",
   "mimetype": "text/x-python",
   "name": "python",
   "nbconvert_exporter": "python",
   "pygments_lexer": "ipython3",
   "version": "3.6.5"
  }
 },
 "nbformat": 4,
 "nbformat_minor": 2
}
